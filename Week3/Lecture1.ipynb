{
 "cells": [
  {
   "cell_type": "code",
   "execution_count": 6,
   "metadata": {},
   "outputs": [],
   "source": [
    "import numpy as np\n",
    "import matplotlib.pyplot as plt\n",
    "from matplotlib          import rc \n",
    "from IPython.display import IFrame, display"
   ]
  },
  {
   "cell_type": "code",
   "execution_count": 43,
   "metadata": {},
   "outputs": [
    {
     "data": {
      "text/html": [
       "\n",
       "        <iframe\n",
       "            width=\"600\"\n",
       "            height=\"400\"\n",
       "            src=\"Lectures/DerivacionNumerica.pdf\"\n",
       "            frameborder=\"0\"\n",
       "            allowfullscreen\n",
       "        ></iframe>\n",
       "        "
      ],
      "text/plain": [
       "<IPython.lib.display.IFrame at 0x7ff8b8c80e50>"
      ]
     },
     "execution_count": 43,
     "metadata": {},
     "output_type": "execute_result"
    }
   ],
   "source": [
    "#file = 'Lectures/derivatives.pdf'\n",
    "file = 'Lectures/DerivacionNumerica.pdf'\n",
    "IFrame(file, width=600, height=400)"
   ]
  },
  {
   "cell_type": "markdown",
   "metadata": {},
   "source": [
    "## Round of errors, encontrar el valor de epsilon para el cual 1. + epsilon = 1. \n",
    "### El error de truncación es una característica del algoritmo. Se expande alrededor de un punto despreciando terminos superiores: truncación para $|x| << 1$:"
   ]
  },
  {
   "cell_type": "markdown",
   "metadata": {},
   "source": [
    "$f(x) = sin(x) = x - \\frac{x^{3}}{6} + \\mathcal{O}(x^{5})$"
   ]
  },
  {
   "cell_type": "code",
   "execution_count": 10,
   "metadata": {},
   "outputs": [
    {
     "name": "stdout",
     "output_type": "stream",
     "text": [
      "1.11022302463e-16\n"
     ]
    }
   ],
   "source": [
    "epsilon = 1.\n",
    "while( 1. + epsilon != 1.):\n",
    "    epsilon *= 0.5\n",
    "\n",
    "print(epsilon)"
   ]
  },
  {
   "cell_type": "code",
   "execution_count": 11,
   "metadata": {},
   "outputs": [],
   "source": [
    "def epsilon(x):\n",
    "    return np.sin(x) - (x - (x**3)/6.)"
   ]
  },
  {
   "cell_type": "code",
   "execution_count": 13,
   "metadata": {},
   "outputs": [
    {
     "name": "stdout",
     "output_type": "stream",
     "text": [
      " x = 3.141593, epsilon = 2.026120e+00 \n",
      " x = 1.570796, epsilon = 7.516777e-02 \n",
      "The ratio is 26.954639\n"
     ]
    }
   ],
   "source": [
    "x = np.pi\n",
    "\n",
    "print( \" x = %f, epsilon = %e \" %(x, epsilon(x)) )\n",
    "print( \" x = %f, epsilon = %e \" %(x/2, epsilon(x/2)) )\n",
    "\n",
    "# Quiero mostrar es que la precision va como 2**5 = 32\n",
    "\n",
    "print(\"The ratio is %f\" %(epsilon(x)/epsilon(x/2.)))"
   ]
  },
  {
   "cell_type": "code",
   "execution_count": 15,
   "metadata": {},
   "outputs": [],
   "source": [
    "def Function(x):\n",
    "    return np.sin(x)\n",
    "\n",
    "def ExactDerivative(x):\n",
    "    return np.cos(x)"
   ]
  },
  {
   "cell_type": "code",
   "execution_count": 30,
   "metadata": {},
   "outputs": [
    {
     "name": "stdout",
     "output_type": "stream",
     "text": [
      "0.0628318530718\n"
     ]
    }
   ],
   "source": [
    "xi, xf, Npoints = 0., 2*np.pi, 100\n",
    "h = (xf-xi)/float(Npoints)\n",
    "\n",
    "print(h)"
   ]
  },
  {
   "cell_type": "code",
   "execution_count": 32,
   "metadata": {},
   "outputs": [],
   "source": [
    "x = np.linspace(xi,xf,Npoints)\n",
    "#print(x)"
   ]
  },
  {
   "cell_type": "code",
   "execution_count": 46,
   "metadata": {},
   "outputs": [],
   "source": [
    "y = Function(x)\n",
    "DYE = ExactDerivative(x)\n",
    "\n",
    "#print(y)"
   ]
  },
  {
   "cell_type": "code",
   "execution_count": 45,
   "metadata": {},
   "outputs": [
    {
     "data": {
      "image/png": "[encoded data removed]",
      "text/plain": [
       "<Figure size 432x288 with 1 Axes>"
      ]
     },
     "metadata": {
      "needs_background": "light"
     },
     "output_type": "display_data"
    }
   ],
   "source": [
    "plt.plot(x,y,'ko')\n",
    "#plt.xlim(3.,3.5)\n",
    "plt.grid()"
   ]
  },
  {
   "cell_type": "code",
   "execution_count": 35,
   "metadata": {},
   "outputs": [],
   "source": [
    "def RightDerivative(f,x,h):\n",
    "    d = 0\n",
    "    if( h!=0. ):\n",
    "        d = (  f(x+h)-f(x)  ) / h\n",
    "    \n",
    "    return d"
   ]
  },
  {
   "cell_type": "code",
   "execution_count": 36,
   "metadata": {},
   "outputs": [
    {
     "name": "stdout",
     "output_type": "stream",
     "text": [
      "-0.03140559247032949\n"
     ]
    }
   ],
   "source": [
    "print(RightDerivative(Function,0.5*np.pi,h))"
   ]
  },
  {
   "cell_type": "code",
   "execution_count": 37,
   "metadata": {},
   "outputs": [],
   "source": [
    "def LeftDerivative(f,x,h):\n",
    "    d = 0\n",
    "    if( h!=0. ):\n",
    "        d = (  f(x)-f(x-h)  ) / h\n",
    "    \n",
    "    return d"
   ]
  },
  {
   "cell_type": "code",
   "execution_count": 38,
   "metadata": {},
   "outputs": [
    {
     "name": "stdout",
     "output_type": "stream",
     "text": [
      "0.03140559247032949\n"
     ]
    }
   ],
   "source": [
    "print(LeftDerivative(Function,0.5*np.pi,h))"
   ]
  },
  {
   "cell_type": "code",
   "execution_count": 39,
   "metadata": {},
   "outputs": [],
   "source": [
    "def CentralDerivative(f,x,h):\n",
    "    d = 0\n",
    "    if( h!=0. ):\n",
    "        d = (  f(x+h)-f(x-h)  ) / (2.*h)\n",
    "    \n",
    "    return d"
   ]
  },
  {
   "cell_type": "code",
   "execution_count": 40,
   "metadata": {},
   "outputs": [
    {
     "name": "stdout",
     "output_type": "stream",
     "text": [
      "0.0\n"
     ]
    }
   ],
   "source": [
    "print(CentralDerivative(Function,0.5*np.pi,h))"
   ]
  },
  {
   "cell_type": "code",
   "execution_count": 44,
   "metadata": {},
   "outputs": [],
   "source": [
    "DYL = LeftDerivative(Function,x,h)\n",
    "DYR = RightDerivative(Function,x,h)\n",
    "DYC = CentralDerivative(Function,x,h)"
   ]
  },
  {
   "cell_type": "code",
   "execution_count": 57,
   "metadata": {},
   "outputs": [
    {
     "data": {
      "image/png": "[encoded data removed]",
      "text/plain": [
       "<Figure size 432x288 with 1 Axes>"
      ]
     },
     "metadata": {
      "needs_background": "light"
     },
     "output_type": "display_data"
    }
   ],
   "source": [
    "plt.plot(x,DYE,'ko')\n",
    "plt.plot(x,DYR,'g.')\n",
    "plt.plot(x,DYL,'b.')\n",
    "plt.plot(x,DYC,'r.')\n",
    "plt.ylim(0.5,1.)\n",
    "plt.xlim(0.,1.)\n",
    "plt.yscale('log')\n",
    "plt.grid()"
   ]
  },
  {
   "cell_type": "code",
   "execution_count": 58,
   "metadata": {},
   "outputs": [],
   "source": [
    "ErrorL = abs(DYE-DYL)\n",
    "ErrorR = abs(DYE-DYR)\n",
    "ErrorC = abs(DYE-DYC)"
   ]
  },
  {
   "cell_type": "code",
   "execution_count": 64,
   "metadata": {},
   "outputs": [
    {
     "data": {
      "image/png": "[encoded data removed]",
      "text/plain": [
       "<Figure size 432x288 with 1 Axes>"
      ]
     },
     "metadata": {
      "needs_background": "light"
     },
     "output_type": "display_data"
    }
   ],
   "source": [
    "plt.plot(x,ErrorL,'b*')\n",
    "plt.plot(x,ErrorR,'g*')\n",
    "plt.plot(x,ErrorC,'r*')\n",
    "plt.yscale('log')"
   ]
  },
  {
   "cell_type": "code",
   "execution_count": 66,
   "metadata": {},
   "outputs": [
    {
     "name": "stdout",
     "output_type": "stream",
     "text": [
      "0.03110004953714848\n"
     ]
    }
   ],
   "source": [
    "# vamos a calcular el error global \n",
    "\n",
    "Sum_num = 0.\n",
    "Sum_den = 0.\n",
    "\n",
    "for i in range( len(ErrorL) ):\n",
    "    \n",
    "    Sum_num += ErrorL[i]**2\n",
    "    Sum_den += DYE[i]**2\n",
    "    \n",
    "Error_Global = np.sqrt(Sum_num/Sum_den)\n",
    "print(Error_Global)"
   ]
  },
  {
   "cell_type": "code",
   "execution_count": 67,
   "metadata": {},
   "outputs": [],
   "source": [
    "# Implementacion segunda derivada\n",
    "\n",
    "def SecondDerivative(f,x,h):\n",
    "    \n",
    "    d2 = 0\n",
    "    \n",
    "    if( h!=0):\n",
    "        d2 = ( f(x+h)+f(x-h)-2*f(x) ) / h**2\n",
    "        \n",
    "    return d2"
   ]
  },
  {
   "cell_type": "code",
   "execution_count": 70,
   "metadata": {},
   "outputs": [],
   "source": [
    "DY2 = SecondDerivative(Function,x,h)\n",
    "\n",
    "DY2E = -np.sin(x)"
   ]
  },
  {
   "cell_type": "code",
   "execution_count": 72,
   "metadata": {},
   "outputs": [
    {
     "data": {
      "image/png": "[encoded data removed]",
      "text/plain": [
       "<Figure size 432x288 with 1 Axes>"
      ]
     },
     "metadata": {
      "needs_background": "light"
     },
     "output_type": "display_data"
    }
   ],
   "source": [
    "plt.plot(x,DY2,'r*')\n",
    "plt.plot(x,DY2E, 'k*')\n",
    "plt.grid()"
   ]
  },
  {
   "cell_type": "code",
   "execution_count": 73,
   "metadata": {},
   "outputs": [
    {
     "data": {
      "image/png": "[encoded data removed]",
      "text/plain": [
       "<Figure size 432x288 with 1 Axes>"
      ]
     },
     "metadata": {
      "needs_background": "light"
     },
     "output_type": "display_data"
    }
   ],
   "source": [
    "plt.plot(x,abs(DY2-DY2E),'r*')\n",
    "plt.grid()"
   ]
  },
  {
   "cell_type": "code",
   "execution_count": null,
   "metadata": {},
   "outputs": [],
   "source": []
  }
 ],
 "metadata": {
  "kernelspec": {
   "display_name": "Python 3",
   "language": "python",
   "name": "python3"
  },
  "language_info": {
   "codemirror_mode": {
    "name": "ipython",
    "version": 2
   },
   "file_extension": ".py",
   "mimetype": "text/x-python",
   "name": "python",
   "nbconvert_exporter": "python",
   "pygments_lexer": "ipython2",
   "version": "2.7.16"
  }
 },
 "nbformat": 4,
 "nbformat_minor": 2
}
