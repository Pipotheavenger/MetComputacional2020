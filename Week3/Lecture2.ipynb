{
 "cells": [
  {
   "cell_type": "code",
   "execution_count": 1,
   "metadata": {},
   "outputs": [],
   "source": [
    "import numpy             as np\n",
    "import matplotlib.pyplot as plt\n",
    "from matplotlib          import rc \n",
    "from IPython.display import IFrame, display"
   ]
  },
  {
   "cell_type": "code",
   "execution_count": 5,
   "metadata": {},
   "outputs": [],
   "source": [
    "file = 'Lectures/Raices_Interpolacion.pdf'\n",
    "#IFrame(file, width=600, height=400)"
   ]
  },
  {
   "cell_type": "markdown",
   "metadata": {},
   "source": [
    "# Método de Newton-Raphson\n",
    "$x_{n+1} = x_{n} - \\frac{f(x_{n})}{f'(x_{n})}$"
   ]
  },
  {
   "cell_type": "code",
   "execution_count": 78,
   "metadata": {},
   "outputs": [],
   "source": [
    "def Function(x):\n",
    "  #  return x**x - 100\n",
    "  #  return (x**3 - 4*x**2 - 2)/(x-4.117949)\n",
    "    return (2*x**4 - 2*x**3 + x**2 + 3*x - 4)"
   ]
  },
  {
   "cell_type": "code",
   "execution_count": 79,
   "metadata": {},
   "outputs": [],
   "source": [
    "def Derivada(f,x,h):\n",
    "    d = 0.\n",
    "    if(h!=0):\n",
    "        d = (f(x+h)-f(x-h))/(2.*h)\n",
    "    return d"
   ]
  },
  {
   "cell_type": "code",
   "execution_count": 80,
   "metadata": {},
   "outputs": [],
   "source": [
    "xi, xf, Npoints = -2., 2., 50\n",
    "h = (xf-xi)/float(Npoints)"
   ]
  },
  {
   "cell_type": "code",
   "execution_count": 81,
   "metadata": {},
   "outputs": [],
   "source": [
    "X = np.linspace(xi,xf,Npoints)\n",
    "Y = Function(X)"
   ]
  },
  {
   "cell_type": "code",
   "execution_count": 82,
   "metadata": {},
   "outputs": [
    {
     "data": {
      "image/png": "[encoded data removed]",
      "text/plain": [
       "<Figure size 432x288 with 1 Axes>"
      ]
     },
     "metadata": {
      "needs_background": "light"
     },
     "output_type": "display_data"
    }
   ],
   "source": [
    "plt.plot(X,Y,'b')\n",
    "plt.xlabel(r'$x$')\n",
    "plt.ylabel(r'$f(x)$')\n",
    "plt.grid()\n",
    "plt.show()"
   ]
  },
  {
   "cell_type": "code",
   "execution_count": 85,
   "metadata": {},
   "outputs": [],
   "source": [
    "# Definamos el metodo\n",
    "\n",
    "def NewtonMethod(Function, Derivada, xn, error, iteracion):\n",
    "    precision = 1.0e-1\n",
    "    h = 1.0e-4\n",
    "    \n",
    "    if( (error > precision) and (iteracion < 2000) ):\n",
    "        \n",
    "        try:\n",
    "            \n",
    "            xn1 = xn - (Function(xn))/Derivada(Function,xn,h)\n",
    "            error = abs(xn1-xn)/abs(xn1)\n",
    "           # print(xn1,error)\n",
    "            NewtonMethod(Function, Derivada, xn1, error, iteracion+1)\n",
    "            \n",
    "        except ZeroDivisionError:\n",
    "            print(\"Division by Zero\")\n",
    "    else:\n",
    "        print('xn=%f, f(xn)=%f' %(xn, Function(xn)))"
   ]
  },
  {
   "cell_type": "code",
   "execution_count": 87,
   "metadata": {},
   "outputs": [
    {
     "name": "stdout",
     "output_type": "stream",
     "text": [
      "xn=1.011520, f(xn)=0.081581\n"
     ]
    }
   ],
   "source": [
    "NewtonMethod(Function,Derivada,4,1000,0)\n",
    "\n",
    "#x = np.linspace(-10,10,100)\n",
    "\n",
    "#for i in range(len(x)):\n",
    "#    NewtonMethod(Function,Derivada,x[i],1000,0)"
   ]
  },
  {
   "cell_type": "markdown",
   "metadata": {},
   "source": [
    "# Interpolación de lagrange\n",
    "\n",
    "$p_{n}(x) = \\sum_{i = 0}^{n} L_{i}(x)f(x_{i}), \\ $\n",
    "$L_{i}(x) = \\prod_{j \\neq i} \\frac{x - x_{j}}{x_{i} - x_{j}}$"
   ]
  },
  {
   "cell_type": "code",
   "execution_count": 88,
   "metadata": {},
   "outputs": [],
   "source": [
    "def Lagrange(x, xi, j, n):\n",
    "    prod = 1.0\n",
    "    \n",
    "    for k in range(n+1):\n",
    "        if(k != j):\n",
    "            prod = prod*(x-xi[k])/(xi[j]-xi[k])\n",
    "            \n",
    "    return prod"
   ]
  },
  {
   "cell_type": "code",
   "execution_count": 89,
   "metadata": {},
   "outputs": [],
   "source": [
    "def Poly(x,xi,fxi,n):\n",
    "    summ = 0\n",
    "    \n",
    "    for j in range(n+1):\n",
    "        summ = summ + fxi[j]*Lagrange(x,xi,j,n)\n",
    "        \n",
    "    return summ"
   ]
  },
  {
   "cell_type": "code",
   "execution_count": 90,
   "metadata": {},
   "outputs": [],
   "source": [
    "X1 = [5.,10.]\n",
    "Y1 = [10.,15.]"
   ]
  },
  {
   "cell_type": "code",
   "execution_count": 92,
   "metadata": {},
   "outputs": [
    {
     "name": "stdout",
     "output_type": "stream",
     "text": [
      "[ 2.   2.5  3.   3.5  4.   4.5  5.   5.5  6.   6.5  7.   7.5  8.   8.5\n",
      "  9.   9.5 10.  10.5 11.  11.5 12. ]\n"
     ]
    }
   ],
   "source": [
    "Data_ = np.arange(2.,12+0.5,0.5)\n",
    "print(Data_)"
   ]
  },
  {
   "cell_type": "code",
   "execution_count": 95,
   "metadata": {},
   "outputs": [
    {
     "name": "stdout",
     "output_type": "stream",
     "text": [
      "(array([ 2. ,  2.5,  3. ,  3.5,  4. ,  4.5,  5. ,  5.5,  6. ,  6.5,  7. ,\n",
      "        7.5,  8. ,  8.5,  9. ,  9.5, 10. , 10.5, 11. , 11.5, 12. ]), array([ 7. ,  7.5,  8. ,  8.5,  9. ,  9.5, 10. , 10.5, 11. , 11.5, 12. ,\n",
      "       12.5, 13. , 13.5, 14. , 14.5, 15. , 15.5, 16. , 16.5, 17. ]))\n"
     ]
    }
   ],
   "source": [
    "px1 = Poly(Data_,X1,Y1,1) # Grado del polinomio\n",
    "print(Data_,px1)"
   ]
  },
  {
   "cell_type": "code",
   "execution_count": 94,
   "metadata": {},
   "outputs": [
    {
     "data": {
      "text/plain": [
       "<matplotlib.collections.PathCollection at 0x7fe3a5fda750>"
      ]
     },
     "execution_count": 94,
     "metadata": {},
     "output_type": "execute_result"
    },
    {
     "data": {
      "image/png": "[encoded data removed]",
      "text/plain": [
       "<Figure size 432x288 with 1 Axes>"
      ]
     },
     "metadata": {
      "needs_background": "light"
     },
     "output_type": "display_data"
    }
   ],
   "source": [
    "plt.plot(Data_,px1,'r',label='p(x)')\n",
    "plt.scatter(X1,Y1,label='f(x)')"
   ]
  },
  {
   "cell_type": "code",
   "execution_count": 102,
   "metadata": {},
   "outputs": [],
   "source": [
    "X1 = [-1,2,3,4]\n",
    "Y1 = [3,1,2,4]\n",
    "\n",
    "Data_ = np.arange(-2., 5.+0.5, 0.5)\n",
    "px3 = Poly(Data_,X1,Y1,3)"
   ]
  },
  {
   "cell_type": "code",
   "execution_count": 103,
   "metadata": {},
   "outputs": [
    {
     "data": {
      "text/plain": [
       "<matplotlib.collections.PathCollection at 0x7fe3a603dfd0>"
      ]
     },
     "execution_count": 103,
     "metadata": {},
     "output_type": "execute_result"
    },
    {
     "data": {
      "image/png": "[encoded data removed]",
      "text/plain": [
       "<Figure size 432x288 with 1 Axes>"
      ]
     },
     "metadata": {
      "needs_background": "light"
     },
     "output_type": "display_data"
    }
   ],
   "source": [
    "plt.plot(Data_,px3,'r',label='p(x)')\n",
    "plt.scatter(X1,Y1,label='f(x)')"
   ]
  },
  {
   "cell_type": "code",
   "execution_count": 111,
   "metadata": {},
   "outputs": [],
   "source": [
    "# Definamos una funcion general\n",
    "\n",
    "def f(x):\n",
    "    \n",
    "    return 1/(25*x**2+1)"
   ]
  },
  {
   "cell_type": "code",
   "execution_count": 135,
   "metadata": {},
   "outputs": [],
   "source": [
    "xi, xf = -1, 1.\n",
    "n = 5 # Grado del polinomio\n",
    "\n",
    "h = (xf-xi)/n\n",
    "\n",
    "X = np.arange(xi,xf+h,h)\n",
    "Y = f(X)"
   ]
  },
  {
   "cell_type": "code",
   "execution_count": 136,
   "metadata": {},
   "outputs": [],
   "source": [
    "h2 = (xf-xi)/1000\n",
    "Data = np.arange(xi, xf+h2, h2)"
   ]
  },
  {
   "cell_type": "code",
   "execution_count": 137,
   "metadata": {},
   "outputs": [],
   "source": [
    "px = Poly(Data, X, Y, n)\n",
    "fx = f(Data)"
   ]
  },
  {
   "cell_type": "code",
   "execution_count": 138,
   "metadata": {},
   "outputs": [
    {
     "data": {
      "text/plain": [
       "[<matplotlib.lines.Line2D at 0x7fe3a5dc0f50>]"
      ]
     },
     "execution_count": 138,
     "metadata": {},
     "output_type": "execute_result"
    },
    {
     "data": {
      "image/png": "[encoded data removed]",
      "text/plain": [
       "<Figure size 432x288 with 1 Axes>"
      ]
     },
     "metadata": {
      "needs_background": "light"
     },
     "output_type": "display_data"
    }
   ],
   "source": [
    "plt.plot(Data,px,'b')\n",
    "plt.plot(Data,fx,'k')\n",
    "plt.plot(X,Y,'ro')\n",
    "#plt.xlim(-0.2,0.2)\n",
    "#plt.ylim(0.,1.0)"
   ]
  },
  {
   "cell_type": "code",
   "execution_count": null,
   "metadata": {},
   "outputs": [],
   "source": []
  },
  {
   "cell_type": "code",
   "execution_count": null,
   "metadata": {},
   "outputs": [],
   "source": []
  }
 ],
 "metadata": {
  "kernelspec": {
   "display_name": "Python 3",
   "language": "python",
   "name": "python3"
  },
  "language_info": {
   "codemirror_mode": {
    "name": "ipython",
    "version": 2
   },
   "file_extension": ".py",
   "mimetype": "text/x-python",
   "name": "python",
   "nbconvert_exporter": "python",
   "pygments_lexer": "ipython2",
   "version": "2.7.16"
  }
 },
 "nbformat": 4,
 "nbformat_minor": 2
}
