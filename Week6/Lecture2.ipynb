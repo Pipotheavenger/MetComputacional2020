{
 "cells": [
  {
   "cell_type": "code",
   "execution_count": 2,
   "metadata": {},
   "outputs": [],
   "source": [
    "import numpy             as np\n",
    "import matplotlib.pyplot as plt\n",
    "from matplotlib          import rc \n",
    "from matplotlib          import cm\n",
    "from mpl_toolkits.mplot3d import Axes3D\n",
    "from IPython.display import IFrame, display\n",
    "import math"
   ]
  },
  {
   "cell_type": "code",
   "execution_count": 4,
   "metadata": {},
   "outputs": [
    {
     "data": {
      "text/html": [
       "\n",
       "        <iframe\n",
       "            width=\"600\"\n",
       "            height=\"400\"\n",
       "            src=\"Figures/LikelihoodContour.pdf\"\n",
       "            frameborder=\"0\"\n",
       "            allowfullscreen\n",
       "        ></iframe>\n",
       "        "
      ],
      "text/plain": [
       "<IPython.lib.display.IFrame at 0x7f42e016c390>"
      ]
     },
     "execution_count": 4,
     "metadata": {},
     "output_type": "execute_result"
    }
   ],
   "source": [
    "file = 'Figures/LikelihoodContour.pdf'\n",
    "IFrame(file, width=600, height=400)"
   ]
  },
  {
   "cell_type": "markdown",
   "metadata": {},
   "source": [
    "# Maximum Likelihood estimation"
   ]
  },
  {
   "cell_type": "code",
   "execution_count": 6,
   "metadata": {},
   "outputs": [],
   "source": [
    "def LikePoisson(lambda_, n):\n",
    "    return ( np.exp(-lambda_)*lambda_**n ) / math.factorial(n)"
   ]
  },
  {
   "cell_type": "code",
   "execution_count": 7,
   "metadata": {},
   "outputs": [
    {
     "data": {
      "text/plain": [
       "[<matplotlib.lines.Line2D at 0x7f42d451c9d0>]"
      ]
     },
     "execution_count": 7,
     "metadata": {},
     "output_type": "execute_result"
    },
    {
     "data": {
      "image/png": "[encoded data removed]",
      "text/plain": [
       "<Figure size 432x288 with 1 Axes>"
      ]
     },
     "metadata": {
      "needs_background": "light"
     },
     "output_type": "display_data"
    }
   ],
   "source": [
    "l = np.linspace(0.,4.,60)\n",
    "likelihoodPois = LikePoisson(l,2)\n",
    "plt.plot(l, likelihoodPois)"
   ]
  },
  {
   "cell_type": "code",
   "execution_count": 8,
   "metadata": {},
   "outputs": [
    {
     "data": {
      "text/plain": [
       "(array([1., 0., 0., 2., 0., 1., 3., 0., 1., 2.]),\n",
       " array([-5.84192597, -4.5755447 , -3.30916343, -2.04278216, -0.77640089,\n",
       "         0.48998039,  1.75636166,  3.02274293,  4.2891242 ,  5.55550548,\n",
       "         6.82188675]),\n",
       " <a list of 10 Patch objects>)"
      ]
     },
     "execution_count": 8,
     "metadata": {},
     "output_type": "execute_result"
    },
    {
     "data": {
      "image/png": "[encoded data removed]",
      "text/plain": [
       "<Figure size 432x288 with 1 Axes>"
      ]
     },
     "metadata": {
      "needs_background": "light"
     },
     "output_type": "display_data"
    }
   ],
   "source": [
    "Data = np.loadtxt('data/dataMLikelihood.dat')\n",
    "plt.hist(Data)"
   ]
  },
  {
   "cell_type": "markdown",
   "metadata": {},
   "source": [
    "Objetivo: Encontrar el mejor valor de sigma dada la secuencia de datos observados {$x_{k}$} y la incertidumbre asociada:\n",
    "\n",
    "$$ prob(\\sigma|\\{ x_{k}\\}) \\propto prob(\\{ x_{k}\\}|\\sigma)prob(\\sigma)$$\n",
    "\n",
    "Asumimos la probabilidad de $P(\\sigma) = A$, para $1 < \\sigma < 10$ y cero en otro caso."
   ]
  },
  {
   "cell_type": "code",
   "execution_count": 9,
   "metadata": {},
   "outputs": [],
   "source": [
    "def probabilidad(x,sigma):\n",
    "    return ( 1./np.sqrt(2.*np.pi*sigma**2))*np.exp( -0.5*(x/sigma)**2 )"
   ]
  },
  {
   "cell_type": "code",
   "execution_count": 10,
   "metadata": {},
   "outputs": [],
   "source": [
    "def GetLikelihood(x,sigma):\n",
    "    \n",
    "    like = 1.0\n",
    "    for i in x:\n",
    "        like *= probabilidad(i,sigma)\n",
    "        \n",
    "    return like"
   ]
  },
  {
   "cell_type": "code",
   "execution_count": 11,
   "metadata": {},
   "outputs": [],
   "source": [
    "sigmai, sigmaf, Npoints = 1.,10.,1000\n",
    "sigma = np.linspace(sigmai,sigmaf,Npoints)\n",
    "Likelihood = GetLikelihood(Data, sigma)"
   ]
  },
  {
   "cell_type": "code",
   "execution_count": 13,
   "metadata": {},
   "outputs": [
    {
     "data": {
      "text/plain": [
       "Text(0,0.5,'$L \\\\times {\\\\rm{prob}(\\\\sigma)}$')"
      ]
     },
     "execution_count": 13,
     "metadata": {},
     "output_type": "execute_result"
    },
    {
     "data": {
      "image/png": "[encoded data removed]",
      "text/plain": [
       "<Figure size 432x288 with 1 Axes>"
      ]
     },
     "metadata": {
      "needs_background": "light"
     },
     "output_type": "display_data"
    }
   ],
   "source": [
    "plt.figure()\n",
    "plt.plot(sigma,Likelihood)\n",
    "plt.xlabel(r'$\\sigma$')\n",
    "plt.ylabel(r'$L \\times {\\rm{prob}(\\sigma)}$')"
   ]
  },
  {
   "cell_type": "code",
   "execution_count": 16,
   "metadata": {},
   "outputs": [
    {
     "name": "stdout",
     "output_type": "stream",
     "text": [
      "6.967942130731746e-13\n"
     ]
    }
   ],
   "source": [
    "print(np.max(Likelihood))"
   ]
  },
  {
   "cell_type": "code",
   "execution_count": 17,
   "metadata": {},
   "outputs": [],
   "source": [
    "def GetDerivative(x,sigma):\n",
    "    h = 0.000001\n",
    "    d = (GetLikelihood(x,sigma+h)-GetLikelihood(x,sigma-h))/(2.*h)\n",
    "    return d"
   ]
  },
  {
   "cell_type": "code",
   "execution_count": 18,
   "metadata": {},
   "outputs": [],
   "source": [
    "Dlikelihood = GetDerivative(Data, sigma)"
   ]
  },
  {
   "cell_type": "code",
   "execution_count": 19,
   "metadata": {},
   "outputs": [
    {
     "data": {
      "text/plain": [
       "Text(0,0.5,'$ dL/d\\\\sigma$')"
      ]
     },
     "execution_count": 19,
     "metadata": {},
     "output_type": "execute_result"
    },
    {
     "data": {
      "image/png": "[encoded data removed]",
      "text/plain": [
       "<Figure size 432x288 with 1 Axes>"
      ]
     },
     "metadata": {
      "needs_background": "light"
     },
     "output_type": "display_data"
    }
   ],
   "source": [
    "plt.figure()\n",
    "plt.plot(sigma, Dlikelihood)\n",
    "plt.xlabel(r'$\\sigma$')\n",
    "plt.ylabel(r'$ dL/d\\sigma$')"
   ]
  },
  {
   "cell_type": "code",
   "execution_count": 20,
   "metadata": {},
   "outputs": [],
   "source": [
    "def Get2Derivative(x, sigma):\n",
    "    h = 0.00001\n",
    "    d = (GetDerivative(x, sigma+h)-GetDerivative(x, sigma-h))/(2.*h)\n",
    "    return d"
   ]
  },
  {
   "cell_type": "code",
   "execution_count": 21,
   "metadata": {},
   "outputs": [],
   "source": [
    "D2likelihood = Get2Derivative(Data, sigma)"
   ]
  },
  {
   "cell_type": "code",
   "execution_count": 22,
   "metadata": {},
   "outputs": [
    {
     "data": {
      "text/plain": [
       "Text(0,0.5,'$ d^{2}L/d\\\\sigma^{2}}$')"
      ]
     },
     "execution_count": 22,
     "metadata": {},
     "output_type": "execute_result"
    },
    {
     "data": {
      "image/png": "[encoded data removed]",
      "text/plain": [
       "<Figure size 432x288 with 1 Axes>"
      ]
     },
     "metadata": {
      "needs_background": "light"
     },
     "output_type": "display_data"
    }
   ],
   "source": [
    "plt.figure()\n",
    "plt.plot(sigma, D2likelihood)\n",
    "plt.xlabel(r'$\\sigma$')\n",
    "plt.ylabel(r'$ d^{2}L/d\\sigma^{2}}$')"
   ]
  },
  {
   "cell_type": "markdown",
   "metadata": {},
   "source": [
    "El mejor valor de $\\sigma$ dada la distribución de datos $\\{x_{k}\\}$, maximiza la función de Likelihood.\n",
    "$$ \\frac{dL}{d\\sigma}\\bigg|_{\\sigma_{0}} = 0  $$ "
   ]
  },
  {
   "cell_type": "code",
   "execution_count": 23,
   "metadata": {},
   "outputs": [],
   "source": [
    "def NewtonRaphson(x,sigmai):\n",
    "    precision = 1e-20\n",
    "    sigman = sigmai\n",
    "    \n",
    "    while np.abs( GetDerivative(x,sigman) ) > precision:\n",
    "        sigman -= GetDerivative(x,sigman)/Get2Derivative(x,sigman)\n",
    "    return sigman"
   ]
  },
  {
   "cell_type": "code",
   "execution_count": 24,
   "metadata": {},
   "outputs": [
    {
     "name": "stdout",
     "output_type": "stream",
     "text": [
      "3.9760525027321862\n"
     ]
    }
   ],
   "source": [
    "SigmaValue = NewtonRaphson(Data,4.0)\n",
    "print(SigmaValue)"
   ]
  },
  {
   "cell_type": "markdown",
   "metadata": {},
   "source": [
    "Para encontrar el error en la estimación usamos el valor maximo en la segunda derivada. No obstante, el likelihood debe estar normalizado correctamente.\n",
    "\n",
    "$$ \\Delta \\sigma_{0} = -\\frac{d^{2}L}{d\\sigma^{2}}\\bigg|_{\\sigma_{0}} $$ "
   ]
  },
  {
   "cell_type": "code",
   "execution_count": 25,
   "metadata": {},
   "outputs": [
    {
     "name": "stdout",
     "output_type": "stream",
     "text": [
      "8.815123029948575e-13\n"
     ]
    }
   ],
   "source": [
    "test = -Get2Derivative(Data, SigmaValue)\n",
    "print(test)"
   ]
  },
  {
   "cell_type": "code",
   "execution_count": 26,
   "metadata": {},
   "outputs": [],
   "source": [
    "def IntegrateLikelihood(x, sigma_min, sigma_max):\n",
    "    # Trapecio\n",
    "    Npoints = 1000\n",
    "    s = np.linspace(sigma_min, sigma_max, Npoints)\n",
    "    Likelihood = GetLikelihood(x,s)\n",
    "    h = s[1]-s[0]\n",
    "    w = np.ones(Npoints)*h\n",
    "    w[0] = 0.5*h\n",
    "    w[-1] = 0.5*h\n",
    "    \n",
    "    integral = np.sum(Likelihood*w)\n",
    "    \n",
    "    return integral"
   ]
  },
  {
   "cell_type": "code",
   "execution_count": 27,
   "metadata": {},
   "outputs": [
    {
     "name": "stdout",
     "output_type": "stream",
     "text": [
      "1.7051343479160216e-12\n"
     ]
    }
   ],
   "source": [
    "Normalization = IntegrateLikelihood(Data, 1.0,10.)\n",
    "print(Normalization)"
   ]
  },
  {
   "cell_type": "code",
   "execution_count": 28,
   "metadata": {},
   "outputs": [
    {
     "name": "stdout",
     "output_type": "stream",
     "text": [
      "0.5169752776795699\n"
     ]
    }
   ],
   "source": [
    "DeltaSigma = -Get2Derivative(Data, SigmaValue)/Normalization\n",
    "print(DeltaSigma)"
   ]
  },
  {
   "cell_type": "markdown",
   "metadata": {},
   "source": [
    "$$ \\hat{\\theta} = 3.97 \\pm 0.51 $$\n",
    "\n",
    "Este error siempre es simétrico, por que suponemos que cerca del máximo la distribución en Gausiana."
   ]
  },
  {
   "cell_type": "code",
   "execution_count": 29,
   "metadata": {},
   "outputs": [],
   "source": [
    "D2Likelihood = Get2Derivative(Data, sigma)/Normalization"
   ]
  },
  {
   "cell_type": "code",
   "execution_count": 30,
   "metadata": {},
   "outputs": [
    {
     "data": {
      "text/plain": [
       "Text(0,0.5,'$d^{2}L\\\\d \\\\sigma^{2}$')"
      ]
     },
     "execution_count": 30,
     "metadata": {},
     "output_type": "execute_result"
    },
    {
     "data": {
      "image/png": "[encoded data removed]",
      "text/plain": [
       "<Figure size 432x288 with 1 Axes>"
      ]
     },
     "metadata": {
      "needs_background": "light"
     },
     "output_type": "display_data"
    }
   ],
   "source": [
    "plt.figure()\n",
    "plt.plot(sigma, D2Likelihood)\n",
    "plt.xlabel(r'$\\sigma$')\n",
    "plt.ylabel(r'$d^{2}L\\d \\sigma^{2}$')"
   ]
  },
  {
   "cell_type": "code",
   "execution_count": null,
   "metadata": {},
   "outputs": [],
   "source": []
  }
 ],
 "metadata": {
  "kernelspec": {
   "display_name": "Python 3",
   "language": "python",
   "name": "python3"
  },
  "language_info": {
   "codemirror_mode": {
    "name": "ipython",
    "version": 2
   },
   "file_extension": ".py",
   "mimetype": "text/x-python",
   "name": "python",
   "nbconvert_exporter": "python",
   "pygments_lexer": "ipython2",
   "version": "2.7.16"
  }
 },
 "nbformat": 4,
 "nbformat_minor": 2
}
