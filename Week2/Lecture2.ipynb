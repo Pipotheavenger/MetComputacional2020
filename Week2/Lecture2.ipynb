{
 "cells": [
  {
   "cell_type": "code",
   "execution_count": 1,
   "metadata": {},
   "outputs": [
    {
     "name": "stdout",
     "output_type": "stream",
     "text": [
      "Using matplotlib backend: Qt5Agg\n",
      "Populating the interactive namespace from numpy and matplotlib\n"
     ]
    }
   ],
   "source": [
    "%pylab\n",
    "\n",
    "# %matplotlib notebook\n",
    "\n",
    "import numpy as np\n",
    "import matplotlib.pyplot as plt\n",
    "from matplotlib import rc\n",
    "import matplotlib.animation as anim\n",
    "# Plot en 3D\n",
    "from mpl_toolkits.mplot3d import axes3d"
   ]
  },
  {
   "cell_type": "code",
   "execution_count": 2,
   "metadata": {},
   "outputs": [],
   "source": [
    "#!tar jvcf out.tar.bz2 *.csv"
   ]
  },
  {
   "cell_type": "code",
   "execution_count": 3,
   "metadata": {},
   "outputs": [],
   "source": [
    "x = np.arange(0.,2.*np.pi, 0.01)\n",
    "#print(x)\n",
    "\n",
    "fig, ax = plt.subplots()\n",
    "line, = ax.plot(x, np.sin(x))"
   ]
  },
  {
   "cell_type": "code",
   "execution_count": 4,
   "metadata": {},
   "outputs": [],
   "source": [
    "# Definimos una funcion de animacion\n",
    "\n",
    "def Animate(i):\n",
    "    line.set_ydata( np.sin( x - i/20. ) )\n",
    "    return line,"
   ]
  },
  {
   "cell_type": "code",
   "execution_count": 5,
   "metadata": {},
   "outputs": [],
   "source": [
    "# Definimos un tiempo maximo y numero de frames\n",
    "TMax = 50\n",
    "dt = 0.01\n",
    "NSteps = 100\n",
    "frames_ = int( TMax / float(NSteps * dt) )"
   ]
  },
  {
   "cell_type": "code",
   "execution_count": 6,
   "metadata": {},
   "outputs": [],
   "source": [
    "Animation = anim.FuncAnimation(fig, Animate, frames=frames_, interval = 10, blit=True)"
   ]
  },
  {
   "cell_type": "code",
   "execution_count": 7,
   "metadata": {},
   "outputs": [],
   "source": [
    "Writer = anim.writers['ffmpeg']\n",
    "writer = Writer(fps=50, metadata=dict(artist='Me'), bitrate=1800 )\n",
    "#Animation.save( 'Onda.mp4', writer=writer )"
   ]
  },
  {
   "cell_type": "code",
   "execution_count": 8,
   "metadata": {},
   "outputs": [],
   "source": [
    "# Quisieramos animar datos\n",
    "\n",
    "fig2, ax = plt.subplots()\n",
    "\n",
    "x,y = [], []\n",
    "line, plt.plot([],[],'ro')\n",
    "\n",
    "def init():\n",
    "    ax.set_xlim(0.,2*np.pi)\n",
    "    ax.set_ylim(-1.,1.)\n",
    "    return line,"
   ]
  },
  {
   "cell_type": "code",
   "execution_count": 9,
   "metadata": {},
   "outputs": [],
   "source": [
    "def Update(frame):\n",
    "  #  x = []\n",
    "  #  y = []\n",
    "    x.append(frame)\n",
    "    y.append(np.sin(frame))\n",
    "    line.set_data(x,y)\n",
    "    return line,"
   ]
  },
  {
   "cell_type": "code",
   "execution_count": 10,
   "metadata": {},
   "outputs": [],
   "source": [
    "Animation = anim.FuncAnimation(fig2, Update, frames=np.linspace(0.,2.*np.pi, 100), interval=50, init_func=init, blit=True )\n",
    "plt.show()"
   ]
  },
  {
   "cell_type": "code",
   "execution_count": 11,
   "metadata": {},
   "outputs": [
    {
     "data": {
      "text/plain": [
       "[('Colombia', 16800), ('USA', 2345), ('Portugal', 56565)]"
      ]
     },
     "execution_count": 11,
     "metadata": {},
     "output_type": "execute_result"
    }
   ],
   "source": [
    "# Hacer un loop sobre dos iterables\n",
    "\n",
    "paises = ['Colombia','USA','Portugal']\n",
    "poblaciones = [16800,2345,56565]\n",
    "\n",
    "\n",
    "#Devuelve tuplas\n",
    "list(zip(paises,poblaciones))"
   ]
  },
  {
   "cell_type": "code",
   "execution_count": 12,
   "metadata": {},
   "outputs": [
    {
     "name": "stdout",
     "output_type": "stream",
     "text": [
      "Colombia: 16800\n",
      "USA: 2345\n",
      "Portugal: 56565\n"
     ]
    }
   ],
   "source": [
    "for pais, poblacion in zip(paises, poblaciones):\n",
    "    print(\"{}: {}\" .format(pais,poblacion))"
   ]
  },
  {
   "cell_type": "code",
   "execution_count": 24,
   "metadata": {},
   "outputs": [],
   "source": [
    "fig3 = plt.figure(figsize=(5,5))\n",
    "ax = fig3.add_subplot(1,1,1, projection='3d')\n",
    "\n",
    "ax.set_xlim(-1.,1.)\n",
    "ax.set_ylim(-1.,1.)\n",
    "ax.set_zlim(-1.,1.)\n",
    "\n",
    "t = np.linspace(-2.*np.pi, 2.*np.pi, 50)\n",
    "x,y,z = np.cos(t), np.sin(t), t/t.max() \n",
    "\n",
    "data = np.array([[x,y,z],[x,y,z]])\n",
    "\n",
    "ax.view_init(10,45)"
   ]
  },
  {
   "cell_type": "code",
   "execution_count": 25,
   "metadata": {},
   "outputs": [],
   "source": [
    "lines = [ax.plot(dat[0, 0:1], dat[1, 0:1], dat[2, 0:1])[0] for dat in data]"
   ]
  },
  {
   "cell_type": "code",
   "execution_count": 26,
   "metadata": {},
   "outputs": [],
   "source": [
    "for dat, line in zip(data, lines):\n",
    "    line.set_data(dat[0:2, :50])\n",
    "    line.set_3d_properties(dat[2, :50])\n",
    "    line.set_marker('.')\n",
    "    line.set_color('b')"
   ]
  },
  {
   "cell_type": "code",
   "execution_count": 27,
   "metadata": {},
   "outputs": [],
   "source": [
    "# Caminata aleatoria en 3D\n",
    "\n",
    "def Update(num, dataLines, lines):\n",
    "    for line, data in zip(lines, dataLines):\n",
    "        # primeras dos filas, numero de columnas para la animacion\n",
    "        line.set_data(data[0:2, :num])\n",
    "        line.set_3d_properties(data[2, :num])\n",
    "        line.set_marker('.')\n",
    "        line.set_color('r')\n",
    "        dataLines = []\n",
    "    return lines"
   ]
  },
  {
   "cell_type": "code",
   "execution_count": 28,
   "metadata": {},
   "outputs": [],
   "source": [
    "N = 200\n",
    "\n",
    "x = np.zeros(N)\n",
    "y = np.zeros(N)\n",
    "z = np.zeros(N)\n",
    "\n",
    "for i in range(1,N):\n",
    "    theta = 2.*np.pi*np.random.rand()\n",
    "    x[i] = x[i-1] + np.cos(theta)\n",
    "    y[i] = y[i-1] + np.sin(theta)\n",
    "    #z[i] = z[i-1] + 2.0*(0.5-np.random.rand())\n",
    "    \n",
    "data = np.array([[x,y,z],[x,y,z]])  "
   ]
  },
  {
   "cell_type": "code",
   "execution_count": 29,
   "metadata": {},
   "outputs": [],
   "source": [
    "fig4 = plt.figure(figsize=(5,5))\n",
    "ax = fig4.add_subplot(1,1,1, projection = '3d')\n",
    "\n",
    "ax.set_xlim(-10,10)\n",
    "ax.set_ylim(-10,10)\n",
    "ax.set_zlim(-10,10)\n",
    "\n",
    "ax.view_init(10,45)"
   ]
  },
  {
   "cell_type": "code",
   "execution_count": 30,
   "metadata": {},
   "outputs": [],
   "source": [
    "lines = [ax.plot(dat[0,0:1], dat[1,0:1], dat[2,0:1])[0] for dat in data]"
   ]
  },
  {
   "cell_type": "code",
   "execution_count": 31,
   "metadata": {},
   "outputs": [],
   "source": [
    "Animation2 = anim.FuncAnimation(fig4, Update, frames=N, fargs=(data,lines), interval=50, blit=True )"
   ]
  },
  {
   "cell_type": "code",
   "execution_count": null,
   "metadata": {},
   "outputs": [],
   "source": []
  }
 ],
 "metadata": {
  "kernelspec": {
   "display_name": "Python 3",
   "language": "python",
   "name": "python3"
  },
  "language_info": {
   "codemirror_mode": {
    "name": "ipython",
    "version": 2
   },
   "file_extension": ".py",
   "mimetype": "text/x-python",
   "name": "python",
   "nbconvert_exporter": "python",
   "pygments_lexer": "ipython2",
   "version": "2.7.16"
  }
 },
 "nbformat": 4,
 "nbformat_minor": 2
}
