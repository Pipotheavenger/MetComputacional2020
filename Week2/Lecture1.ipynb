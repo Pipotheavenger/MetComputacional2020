{
 "cells": [
  {
   "cell_type": "code",
   "execution_count": 2,
   "metadata": {},
   "outputs": [],
   "source": [
    "import numpy as np\n",
    "import matplotlib.pyplot as plt\n",
    "from matplotlib import rc"
   ]
  },
  {
   "cell_type": "code",
   "execution_count": 3,
   "metadata": {},
   "outputs": [
    {
     "name": "stdout",
     "output_type": "stream",
     "text": [
      "[3.15, 2.35, 6.89, 4.52, 3.32]\n"
     ]
    }
   ],
   "source": [
    "# Listas\n",
    "\n",
    "mylist = [ 3.15,2.35,6.89,4.52,3.32 ]\n",
    "print(mylist)"
   ]
  },
  {
   "cell_type": "code",
   "execution_count": 7,
   "metadata": {},
   "outputs": [
    {
     "name": "stdout",
     "output_type": "stream",
     "text": [
      "(2.35, 3.32, 6.89, [3.15, 2.35, 6.89, 4.52, 3.32])\n"
     ]
    }
   ],
   "source": [
    "print(mylist[1], mylist[-1], mylist[-3], mylist[:])"
   ]
  },
  {
   "cell_type": "code",
   "execution_count": 9,
   "metadata": {},
   "outputs": [
    {
     "name": "stdout",
     "output_type": "stream",
     "text": [
      "([3.15, 2.35], [3.15, 2.35])\n"
     ]
    }
   ],
   "source": [
    "print(mylist[0:2], mylist[:2])"
   ]
  },
  {
   "cell_type": "code",
   "execution_count": 11,
   "metadata": {},
   "outputs": [
    {
     "name": "stdout",
     "output_type": "stream",
     "text": [
      "[6.89, 4.52, 3.32]\n"
     ]
    }
   ],
   "source": [
    "print(mylist[2:])"
   ]
  },
  {
   "cell_type": "code",
   "execution_count": 12,
   "metadata": {},
   "outputs": [
    {
     "name": "stdout",
     "output_type": "stream",
     "text": [
      "[3.15, 2.35, 5.963, 6.89, 4.52, 3.32]\n"
     ]
    }
   ],
   "source": [
    "mylist.insert(2, 5.963)\n",
    "print(mylist)"
   ]
  },
  {
   "cell_type": "code",
   "execution_count": 16,
   "metadata": {},
   "outputs": [],
   "source": [
    "mylist.index(2.35)\n",
    "mylist.append(6.98)"
   ]
  },
  {
   "cell_type": "code",
   "execution_count": 17,
   "metadata": {},
   "outputs": [
    {
     "name": "stdout",
     "output_type": "stream",
     "text": [
      "[3.15, 2.35, 5.963, 6.89, 4.52, 3.32, 6.98]\n"
     ]
    }
   ],
   "source": [
    "print(mylist)"
   ]
  },
  {
   "cell_type": "code",
   "execution_count": 23,
   "metadata": {},
   "outputs": [
    {
     "name": "stdout",
     "output_type": "stream",
     "text": [
      "[[  1.    1.    0.9]\n",
      " [  2.    2.2   7.8]\n",
      " [  3.    2.5  27.5]\n",
      " [  4.    4.4  67. ]\n",
      " [  5.    6.  130. ]]\n"
     ]
    }
   ],
   "source": [
    "# Lectura de datos\n",
    "file_1 = 'data/lectura1.dat'\n",
    "data = np.loadtxt(file_1, comments='#')\n",
    "print(data)"
   ]
  },
  {
   "cell_type": "code",
   "execution_count": 27,
   "metadata": {},
   "outputs": [
    {
     "name": "stdout",
     "output_type": "stream",
     "text": [
      "(array([1., 2., 3., 4., 5.]), array([1. , 2.2, 2.5, 4.4, 6. ]), array([  0.9,   7.8,  27.5,  67. , 130. ]))\n"
     ]
    }
   ],
   "source": [
    "tiempo = data[:,0]\n",
    "x = data[:,1]\n",
    "y = data[:,2]\n",
    "print(tiempo,x,y)"
   ]
  },
  {
   "cell_type": "code",
   "execution_count": 33,
   "metadata": {},
   "outputs": [
    {
     "data": {
      "image/png": "[encoded data removed]",
      "text/plain": [
       "<Figure size 432x288 with 1 Axes>"
      ]
     },
     "metadata": {
      "needs_background": "light"
     },
     "output_type": "display_data"
    }
   ],
   "source": [
    "# Plotting\n",
    "\n",
    "plt.plot(tiempo,y,'ro',label='Cinematica')\n",
    "\n",
    "plt.title('Posicion vs Tiempo')\n",
    "plt.xlabel(r'$tiempo[s]$')\n",
    "plt.ylabel(r'$y[m]$')\n",
    "plt.grid()\n",
    "plt.legend()\n",
    "\n",
    "plt.savefig('Figures/Yvst.pdf')\n",
    "plt.show()"
   ]
  },
  {
   "cell_type": "code",
   "execution_count": 35,
   "metadata": {},
   "outputs": [
    {
     "data": {
      "image/png": "[encoded data removed]",
      "text/plain": [
       "<Figure size 432x288 with 1 Axes>"
      ]
     },
     "metadata": {
      "needs_background": "light"
     },
     "output_type": "display_data"
    }
   ],
   "source": [
    "fig, ax = plt.subplots()\n",
    "p1 = ax.plot(tiempo, x, 'ro')\n",
    "p2 = ax.plot(tiempo, y, 'bo')\n",
    "\n",
    "ax.set(xlabel = r'$tiempo[s]$', ylabel = r'$Posicion[m]$', title='Posicion vs Tiempo')\n",
    "\n",
    "ax.grid()\n",
    "ax.legend()\n",
    "\n",
    "plt.savefig('Figures/XYvst.pdf')\n",
    "plt.show()"
   ]
  },
  {
   "cell_type": "code",
   "execution_count": 36,
   "metadata": {},
   "outputs": [],
   "source": [
    "def Funcion(t, N0_, alpha_):\n",
    "    return N0_*np.exp(-t*alpha_)"
   ]
  },
  {
   "cell_type": "markdown",
   "metadata": {},
   "source": [
    "# Nuclear Decay\n",
    "\n",
    "$$ N(t) = N_{0}e^{-\\alpha t}  $$"
   ]
  },
  {
   "cell_type": "code",
   "execution_count": 40,
   "metadata": {},
   "outputs": [],
   "source": [
    "N0 = 1000.\n",
    "alpha = 0.8\n",
    "\n",
    "# la variable independiente\n",
    "t = np.linspace(0.1,2.,100)\n",
    "#print(t)"
   ]
  },
  {
   "cell_type": "code",
   "execution_count": 46,
   "metadata": {},
   "outputs": [],
   "source": [
    "y = np.zeros(len(t))\n",
    "#print(y)\n",
    "\n",
    "#Llenado usando c++\n",
    "\n",
    "#for i in range(len(t)):\n",
    "#    y[i] = Funcion(t[i], N0, alpha)\n",
    "\n",
    "# Llenado tipo python\n",
    "\n",
    "y = Funcion(t,N0,alpha)\n",
    "\n",
    "#print(y)"
   ]
  },
  {
   "cell_type": "code",
   "execution_count": 53,
   "metadata": {},
   "outputs": [
    {
     "data": {
      "image/png": "[encoded data removed]",
      "text/plain": [
       "<Figure size 432x288 with 1 Axes>"
      ]
     },
     "metadata": {
      "needs_background": "light"
     },
     "output_type": "display_data"
    }
   ],
   "source": [
    "fig, ax = plt.subplots()\n",
    "p1 = ax.plot(t, y, 'bo')\n",
    "p2 = ax.plot(np.log(2)/alpha, 0.5*N0, 'ro')\n",
    "\n",
    "ax.set(xlabel = r'$tiempo[s]$', ylabel = r'$N(t)$', title=r'$\\mathrm{Nuclear \\ Decay} \\ N_{0}=%.0f, \\ \\alpha = %.2f$' %(N0,alpha))\n",
    "\n",
    "ax.grid()\n",
    "ax.legend()\n",
    "\n",
    "plt.savefig('Figures/Decay.pdf')\n",
    "plt.show()"
   ]
  },
  {
   "cell_type": "code",
   "execution_count": 84,
   "metadata": {},
   "outputs": [],
   "source": [
    "# Nuestra primera animación\n",
    "\n",
    "filenames = []\n",
    "mean_ = []"
   ]
  },
  {
   "cell_type": "code",
   "execution_count": 85,
   "metadata": {},
   "outputs": [],
   "source": [
    "def CreateFig(alpha_, it):\n",
    "    \n",
    "    t = np.linspace(0.01,10.,50)\n",
    "    #y = np.zeros(len(t))\n",
    "    y = Funcion(t, N0, alpha_)\n",
    "    \n",
    "    mean = np.log(2)/alpha_\n",
    "    mean_.append(mean)\n",
    "    \n",
    "    fig, ax = plt.subplots()\n",
    "    p1 = ax.plot(t,y,'bo')\n",
    "    p2 = ax.plot(mean, 0.5*N0, 'ro')\n",
    " \n",
    "    ax.set_xlim(0.,10.)\n",
    "    ax.set_ylim(0.,1000.)\n",
    "    \n",
    "    ax.set(xlabel = 'tiempo[s]',\n",
    "        ylabel = 'N(t)',\n",
    "        title =r'$\\mathrm{Nuclear \\ Decay: %.0f} \\ N_{0}=%.0f, \\ \\alpha=%.2f \\ \\mu=%.3f$' %(it, N0, alpha_, mean))\n",
    "    ax.grid()\n",
    "    ax.legend()\n",
    "    \n",
    "    filename = \"Figures/%02d\"%it + \".png\"\n",
    "    filenames.append(filename)\n",
    "    plt.savefig(filename)\n",
    "    plt.close() "
   ]
  },
  {
   "cell_type": "code",
   "execution_count": 86,
   "metadata": {},
   "outputs": [
    {
     "name": "stdout",
     "output_type": "stream",
     "text": [
      "[0.1        0.11836735 0.13673469 0.15510204 0.17346939 0.19183673\n",
      " 0.21020408 0.22857143 0.24693878 0.26530612 0.28367347 0.30204082\n",
      " 0.32040816 0.33877551 0.35714286 0.3755102  0.39387755 0.4122449\n",
      " 0.43061224 0.44897959 0.46734694 0.48571429 0.50408163 0.52244898\n",
      " 0.54081633 0.55918367 0.57755102 0.59591837 0.61428571 0.63265306\n",
      " 0.65102041 0.66938776 0.6877551  0.70612245 0.7244898  0.74285714\n",
      " 0.76122449 0.77959184 0.79795918 0.81632653 0.83469388 0.85306122\n",
      " 0.87142857 0.88979592 0.90816327 0.92653061 0.94489796 0.96326531\n",
      " 0.98163265 1.        ]\n"
     ]
    }
   ],
   "source": [
    "alphatest = np.linspace(0.1,1.0,50)\n",
    "print(alphatest)"
   ]
  },
  {
   "cell_type": "code",
   "execution_count": 87,
   "metadata": {},
   "outputs": [],
   "source": [
    "num_fig = 0\n",
    "\n",
    "for i in alphatest:\n",
    "    CreateFig(i, num_fig)\n",
    "    num_fig += 1"
   ]
  },
  {
   "cell_type": "code",
   "execution_count": 89,
   "metadata": {},
   "outputs": [],
   "source": [
    "!convert Figures/* -loop 0 -delay 200 decay.gif"
   ]
  },
  {
   "cell_type": "code",
   "execution_count": 90,
   "metadata": {},
   "outputs": [],
   "source": [
    "!rm Figures/*"
   ]
  },
  {
   "cell_type": "code",
   "execution_count": 88,
   "metadata": {},
   "outputs": [
    {
     "name": "stdout",
     "output_type": "stream",
     "text": [
      "[6.931471805599452, 5.855898594385745, 5.069285350363779, 4.468975243083857, 3.995789629110272, 3.6132140263231185, 3.2974962958677003, 3.0325189149497604, 2.8069596568130013, 2.6126316805721013, 2.4434684782329006, 2.2948791788808998, 2.163325595378173, 2.046036858279356, 1.9408121055678464, 1.8458810786650715, 1.7598037226651457, 1.6813966261107582, 1.6096782866084036, 1.5438278112471506, 1.4831533557832888, 1.42706772468224, 1.3750693055642638, 1.3267270252905201, 1.2816683716014081, 1.2395697754539166, 1.200148828531354, 1.16315793998073, 1.128379131144097, 1.095619737014107, 1.0647088353428626, 1.0354942636413815, 1.0078401141672795, 0.9816246198681305, 0.9567383618996428, 0.9330827430614648, 0.9105686822369254, 0.8891154933884114, 0.8686499193717985, 0.849105296185933, 0.8304208275657046, 0.8125409532879742, 0.7954147973638717, 0.7789956845742504, 0.7632407156727488, 0.7481103931153594, 0.7335682904414108, 0.7195807594796042, 0.7061166704248922, 0.6931471805599453]\n"
     ]
    }
   ],
   "source": [
    "print(mean_)"
   ]
  },
  {
   "cell_type": "code",
   "execution_count": 97,
   "metadata": {},
   "outputs": [],
   "source": [
    "# Guardar la informacion animada\n",
    "\n",
    "Final = np.array(mean_)\n",
    "#print(Final)\n",
    "\n",
    "np.savetxt('MeanLifeTime.dat', Final, fmt = '%.9e', delimiter=' ', newline='\\n')"
   ]
  },
  {
   "cell_type": "code",
   "execution_count": null,
   "metadata": {},
   "outputs": [],
   "source": []
  }
 ],
 "metadata": {
  "kernelspec": {
   "display_name": "Python 3",
   "language": "python",
   "name": "python3"
  },
  "language_info": {
   "codemirror_mode": {
    "name": "ipython",
    "version": 2
   },
   "file_extension": ".py",
   "mimetype": "text/x-python",
   "name": "python",
   "nbconvert_exporter": "python",
   "pygments_lexer": "ipython2",
   "version": "2.7.16"
  }
 },
 "nbformat": 4,
 "nbformat_minor": 2
}
