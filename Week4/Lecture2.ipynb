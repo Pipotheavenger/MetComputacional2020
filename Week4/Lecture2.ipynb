{
 "cells": [
  {
   "cell_type": "code",
   "execution_count": 37,
   "metadata": {},
   "outputs": [],
   "source": [
    "import math\n",
    "import numpy as np\n",
    "import matplotlib.pyplot as plt\n",
    "from matplotlib import rc\n",
    "from IPython.display import IFrame, display"
   ]
  },
  {
   "cell_type": "code",
   "execution_count": 9,
   "metadata": {},
   "outputs": [],
   "source": [
    "file = 'Lectures/Cuadratura_Gaussiana.pdf'\n",
    "#IFrame(file, width=600, height=400)"
   ]
  },
  {
   "cell_type": "code",
   "execution_count": 25,
   "metadata": {},
   "outputs": [
    {
     "name": "stdout",
     "output_type": "stream",
     "text": [
      "[-0.93246951 -0.66120939 -0.23861919  0.23861919  0.66120939  0.93246951]\n",
      "[0.17132449 0.36076157 0.46791393 0.46791393 0.36076157 0.17132449]\n"
     ]
    }
   ],
   "source": [
    "deg = 6\n",
    "x, w = np.polynomial.legendre.leggauss(deg)\n",
    "print(x)\n",
    "print(w)"
   ]
  },
  {
   "cell_type": "code",
   "execution_count": 26,
   "metadata": {},
   "outputs": [
    {
     "name": "stdout",
     "output_type": "stream",
     "text": [
      "1.0\n"
     ]
    }
   ],
   "source": [
    "a = 0\n",
    "b = 0.5*np.pi\n",
    "\n",
    "f = lambda x : np.cos(x)\n",
    "print(f(0.))"
   ]
  },
  {
   "cell_type": "code",
   "execution_count": 27,
   "metadata": {},
   "outputs": [],
   "source": [
    "t = 0.5*( (b-a)*x + a + b )\n",
    "Integral = 0.5*(b-a)*sum( w*f(t))"
   ]
  },
  {
   "cell_type": "code",
   "execution_count": 28,
   "metadata": {},
   "outputs": [
    {
     "name": "stdout",
     "output_type": "stream",
     "text": [
      "0.9999999999999535\n"
     ]
    }
   ],
   "source": [
    "print(Integral)"
   ]
  },
  {
   "cell_type": "code",
   "execution_count": 29,
   "metadata": {},
   "outputs": [],
   "source": [
    "import sympy as sym"
   ]
  },
  {
   "cell_type": "code",
   "execution_count": 30,
   "metadata": {},
   "outputs": [],
   "source": [
    "x = sym.Symbol('x', real=True)\n",
    "funcion = sym.sqrt(x**2+1)\n",
    "dfuncion = sym.diff(funcion,x)\n",
    "d2funcion = sym.diff(dfuncion,x)"
   ]
  },
  {
   "cell_type": "code",
   "execution_count": 31,
   "metadata": {},
   "outputs": [
    {
     "name": "stdout",
     "output_type": "stream",
     "text": [
      "(sqrt(x**2 + 1), x/sqrt(x**2 + 1), -x**2/(x**2 + 1)**(3/2) + 1/sqrt(x**2 + 1))\n"
     ]
    }
   ],
   "source": [
    "print(funcion, dfuncion, d2funcion)"
   ]
  },
  {
   "cell_type": "code",
   "execution_count": 33,
   "metadata": {},
   "outputs": [],
   "source": [
    "# Convertir en numerico\n",
    "\n",
    "fn = sym.lambdify([x], funcion, 'numpy')\n",
    "dfn = sym.lambdify([x], dfuncion, 'numpy')\n",
    "d2fn = sym.lambdify([x], d2funcion, 'numpy')"
   ]
  },
  {
   "cell_type": "code",
   "execution_count": 36,
   "metadata": {},
   "outputs": [
    {
     "data": {
      "image/png": "[encoded data removed]",
      "text/plain": [
       "<Figure size 432x288 with 1 Axes>"
      ]
     },
     "metadata": {
      "needs_background": "light"
     },
     "output_type": "display_data"
    }
   ],
   "source": [
    "x = np.linspace(-3,3,20)\n",
    "plt.plot(x,fn(x),x,dfn(x),x,d2fn(x))\n",
    "plt.legend(['f(x)','df(x)','d2f(x)'])\n",
    "plt.show()"
   ]
  },
  {
   "cell_type": "code",
   "execution_count": 38,
   "metadata": {},
   "outputs": [],
   "source": [
    "def CreateLegendPoly(n):\n",
    "    x = sym.Symbol('x', real=True)\n",
    "    y = sym.Symbol('y', real=True)\n",
    "    \n",
    "    y = (x**2-1)**n\n",
    "    poly = sym.diff(y,x,n)/( 2**n * math.factorial(n) )\n",
    "    \n",
    "    return poly"
   ]
  },
  {
   "cell_type": "code",
   "execution_count": 41,
   "metadata": {},
   "outputs": [],
   "source": [
    "poly2 = CreateLegendPoly(3)"
   ]
  },
  {
   "cell_type": "code",
   "execution_count": 42,
   "metadata": {},
   "outputs": [
    {
     "name": "stdout",
     "output_type": "stream",
     "text": [
      "x*(5*x**2 - 3)/2\n"
     ]
    }
   ],
   "source": [
    "print(poly2)"
   ]
  },
  {
   "cell_type": "code",
   "execution_count": null,
   "metadata": {},
   "outputs": [],
   "source": []
  }
 ],
 "metadata": {
  "kernelspec": {
   "display_name": "Python 3",
   "language": "python",
   "name": "python3"
  },
  "language_info": {
   "codemirror_mode": {
    "name": "ipython",
    "version": 2
   },
   "file_extension": ".py",
   "mimetype": "text/x-python",
   "name": "python",
   "nbconvert_exporter": "python",
   "pygments_lexer": "ipython2",
   "version": "2.7.16"
  }
 },
 "nbformat": 4,
 "nbformat_minor": 2
}
