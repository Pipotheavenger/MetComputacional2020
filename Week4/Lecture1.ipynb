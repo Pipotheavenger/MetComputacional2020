{
 "cells": [
  {
   "cell_type": "code",
   "execution_count": 2,
   "metadata": {},
   "outputs": [],
   "source": [
    "import numpy as np\n",
    "import matplotlib.pyplot as plt\n",
    "from matplotlib import rc\n",
    "from IPython.display import IFrame, display"
   ]
  },
  {
   "cell_type": "code",
   "execution_count": 5,
   "metadata": {},
   "outputs": [],
   "source": [
    "file = 'Lectures/Integracion.pdf'\n",
    "#IFrame(file, width=600, height=400)"
   ]
  },
  {
   "cell_type": "code",
   "execution_count": 6,
   "metadata": {},
   "outputs": [],
   "source": [
    "def Function(x):\n",
    "    return np.sin(x)"
   ]
  },
  {
   "cell_type": "code",
   "execution_count": 7,
   "metadata": {},
   "outputs": [],
   "source": [
    "xi, xf, Npoints = 0., 0.5*np.pi, 10\n",
    "X = np.linspace(xi,xf, Npoints+1)\n",
    "Y = Function(X)"
   ]
  },
  {
   "cell_type": "code",
   "execution_count": 10,
   "metadata": {},
   "outputs": [
    {
     "data": {
      "text/plain": [
       "<matplotlib.collections.PathCollection at 0x7f8173814d10>"
      ]
     },
     "execution_count": 10,
     "metadata": {},
     "output_type": "execute_result"
    },
    {
     "data": {
      "image/png": "[encoded data removed]",
      "text/plain": [
       "<Figure size 432x288 with 1 Axes>"
      ]
     },
     "metadata": {
      "needs_background": "light"
     },
     "output_type": "display_data"
    }
   ],
   "source": [
    "plt.plot(X,Y,'b',label='f(x)')\n",
    "plt.scatter(X,Y,c='r')"
   ]
  },
  {
   "cell_type": "markdown",
   "metadata": {},
   "source": [
    "# Implementar regla del trapecio."
   ]
  },
  {
   "cell_type": "code",
   "execution_count": 14,
   "metadata": {},
   "outputs": [],
   "source": [
    "# Definamos el metodo del trapecio\n",
    "\n",
    "def TrapezeMethod(f,X,Y):\n",
    "    \n",
    "    h = (X[-1]-X[0])/(len(X)-1)\n",
    "    \n",
    "    integral = 0\n",
    "    \n",
    "    integral += 0.5*(f(X[0])+f(X[-1]))\n",
    "    \n",
    "    for i in X[1:-1]:\n",
    "        integral += f(i)\n",
    "        \n",
    "    integral *= h\n",
    "    \n",
    "    return integral, h"
   ]
  },
  {
   "cell_type": "code",
   "execution_count": 16,
   "metadata": {},
   "outputs": [
    {
     "name": "stdout",
     "output_type": "stream",
     "text": [
      "0.9979429863543572\n",
      "0.15707963267948966\n"
     ]
    }
   ],
   "source": [
    "Integral, step = TrapezeMethod(Function,X,Y)\n",
    "print(Integral)\n",
    "print(step)"
   ]
  },
  {
   "cell_type": "code",
   "execution_count": 17,
   "metadata": {},
   "outputs": [],
   "source": [
    "# Necesitamos la segunda derivada de f(x)\n",
    "\n",
    "def ddFunction(f,x,h):\n",
    "    d = 0\n",
    "    if(h!=0):\n",
    "        d = ( f(x+h) - 2*f(x) + f(x-h) ) /h**2\n",
    "    return d"
   ]
  },
  {
   "cell_type": "code",
   "execution_count": 18,
   "metadata": {},
   "outputs": [],
   "source": [
    "D2Y = ddFunction(Function,X,0.001)"
   ]
  },
  {
   "cell_type": "code",
   "execution_count": 19,
   "metadata": {},
   "outputs": [
    {
     "data": {
      "text/plain": [
       "[<matplotlib.lines.Line2D at 0x7f81738cb3d0>]"
      ]
     },
     "execution_count": 19,
     "metadata": {},
     "output_type": "execute_result"
    },
    {
     "data": {
      "image/png": "[encoded data removed]",
      "text/plain": [
       "<Figure size 432x288 with 1 Axes>"
      ]
     },
     "metadata": {
      "needs_background": "light"
     },
     "output_type": "display_data"
    }
   ],
   "source": [
    "plt.plot(X,D2Y,'b',label='f(x)')"
   ]
  },
  {
   "cell_type": "markdown",
   "metadata": {},
   "source": [
    "# Error para la regla del trapecio"
   ]
  },
  {
   "cell_type": "code",
   "execution_count": 25,
   "metadata": {},
   "outputs": [],
   "source": [
    "# Calculando el error\n",
    "\n",
    "def ErrorTrapezeMethod(X,D2Y):\n",
    "    D2Y_ = np.array(D2Y)\n",
    "    #max_ = np.max(D2Y_) Posiblemente f2(x) es cero.\n",
    "    max_ = np.mean(D2Y_)\n",
    "    \n",
    "    error = -(( X[-1]-X[0] )**3 * max_)/(12.*len(X)**2)\n",
    "    return error"
   ]
  },
  {
   "cell_type": "code",
   "execution_count": 26,
   "metadata": {},
   "outputs": [
    {
     "name": "stdout",
     "output_type": "stream",
     "text": [
      "0.001662981862294558\n"
     ]
    }
   ],
   "source": [
    "Error = ErrorTrapezeMethod(X,D2Y)\n",
    "print(Error)"
   ]
  },
  {
   "cell_type": "markdown",
   "metadata": {},
   "source": [
    "Estimación de $\\int_{0}^{\\pi/2} sin(x)$ usando la regla del trapecio.\n",
    "\n",
    "$$ I \\approx 0.997 \\pm 0.001 $$ "
   ]
  },
  {
   "cell_type": "markdown",
   "metadata": {},
   "source": [
    "# Implementar regla de Simpson"
   ]
  },
  {
   "cell_type": "code",
   "execution_count": null,
   "metadata": {},
   "outputs": [],
   "source": [
    "def SimpsonMethod(f,X,Y):\n",
    "    \n",
    "    h = (X[-1]-X[0])/(len(X)-1)\n",
    "    \n",
    "    integral = 0\n",
    "    \n",
    "    integral += f(X[0])+f(X[-1])\n",
    "    \n",
    "    for i in range(len(X[1:-1])):\n",
    "        \n",
    "        if (i%2 == 0):\n",
    "            integral += 4.*f(X[i+1])\n",
    "            \n",
    "        else:\n",
    "            integral += 2.*f(X[i+1])\n",
    "            \n",
    "    integral *= h/3. \n",
    "    \n",
    "    return integral, h"
   ]
  },
  {
   "cell_type": "code",
   "execution_count": 30,
   "metadata": {},
   "outputs": [
    {
     "name": "stdout",
     "output_type": "stream",
     "text": [
      "(1.0000033922209004, 0.15707963267948966)\n"
     ]
    }
   ],
   "source": [
    "Integral, step = SimpsonMethod(Function,X,Y)\n",
    "print(Integral, step)"
   ]
  },
  {
   "cell_type": "markdown",
   "metadata": {},
   "source": [
    "# Error para la regla de Simpson"
   ]
  },
  {
   "cell_type": "code",
   "execution_count": 54,
   "metadata": {},
   "outputs": [],
   "source": [
    "# Implementando la cuarta derivada\n",
    "\n",
    "def D4Derivative(f,x,h):\n",
    "    d = 0\n",
    "    if(h!=0):\n",
    "        d = (f(x+2.*h) - 4*f(x+h) + 6*f(x) - 4*f(x-h) + f(x-2.*h))/h**4\n",
    "\n",
    "    return d"
   ]
  },
  {
   "cell_type": "code",
   "execution_count": 55,
   "metadata": {},
   "outputs": [],
   "source": [
    "D4Y = D4Derivative(Function,X,0.001)"
   ]
  },
  {
   "cell_type": "code",
   "execution_count": 56,
   "metadata": {},
   "outputs": [
    {
     "data": {
      "text/plain": [
       "[<matplotlib.lines.Line2D at 0x7f8173475190>]"
      ]
     },
     "execution_count": 56,
     "metadata": {},
     "output_type": "execute_result"
    },
    {
     "data": {
      "image/png": "[encoded data removed]",
      "text/plain": [
       "<Figure size 432x288 with 1 Axes>"
      ]
     },
     "metadata": {
      "needs_background": "light"
     },
     "output_type": "display_data"
    }
   ],
   "source": [
    "plt.plot(X,D4Y)"
   ]
  },
  {
   "cell_type": "code",
   "execution_count": 58,
   "metadata": {},
   "outputs": [
    {
     "name": "stdout",
     "output_type": "stream",
     "text": [
      "3.310070044230331e-06\n"
     ]
    }
   ],
   "source": [
    "D4Y_ = np.array(D4Y)\n",
    "mean = np.mean(D4Y_)\n",
    "\n",
    "error = ((X[-1]-X[0])*(mean*step**4))/180.\n",
    "print(error)"
   ]
  },
  {
   "cell_type": "markdown",
   "metadata": {},
   "source": [
    "Estimación de $\\int_{0}^{\\pi/2} sin(x)$ usando la regla de Simpson 1/3.\n",
    "\n",
    "$$ I \\approx 1.000003 \\pm 0.000003 $$ "
   ]
  },
  {
   "cell_type": "code",
   "execution_count": null,
   "metadata": {},
   "outputs": [],
   "source": []
  }
 ],
 "metadata": {
  "kernelspec": {
   "display_name": "Python 3",
   "language": "python",
   "name": "python3"
  },
  "language_info": {
   "codemirror_mode": {
    "name": "ipython",
    "version": 2
   },
   "file_extension": ".py",
   "mimetype": "text/x-python",
   "name": "python",
   "nbconvert_exporter": "python",
   "pygments_lexer": "ipython2",
   "version": "2.7.16"
  }
 },
 "nbformat": 4,
 "nbformat_minor": 2
}
