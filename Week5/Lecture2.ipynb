{
 "cells": [
  {
   "cell_type": "code",
   "execution_count": 1,
   "metadata": {},
   "outputs": [],
   "source": [
    "import numpy             as np\n",
    "import matplotlib.pyplot as plt\n",
    "from matplotlib          import rc \n",
    "from tqdm import tqdm"
   ]
  },
  {
   "cell_type": "code",
   "execution_count": 2,
   "metadata": {},
   "outputs": [
    {
     "data": {
      "text/html": [
       "\n",
       "        <iframe\n",
       "            width=\"600\"\n",
       "            height=\"400\"\n",
       "            src=\"Lectures/MonteCarlo.pdf\"\n",
       "            frameborder=\"0\"\n",
       "            allowfullscreen\n",
       "        ></iframe>\n",
       "        "
      ],
      "text/plain": [
       "<IPython.lib.display.IFrame at 0x7f0719b1acd0>"
      ]
     },
     "execution_count": 2,
     "metadata": {},
     "output_type": "execute_result"
    }
   ],
   "source": [
    "from IPython.display import IFrame, display\n",
    "file = 'Lectures/MonteCarlo.pdf'\n",
    "IFrame(file, width=600, height=400)"
   ]
  },
  {
   "cell_type": "markdown",
   "metadata": {},
   "source": [
    "Queremos calcular el segundo momento de la distribución usando el método de Montecarlo.\n",
    "$$ x \\sim exp(4) $$ \n",
    "$$ f(x) = \\frac{1}{4}e^{\\frac{-x}{4}} $$  \n",
    "$$ E(x^{2}) = \\int_{0}^{\\infty}\\frac{1}{4} x^{2} e^{\\frac{-x}{4}} = 32$$\n",
    "Hacer cambio de variable $y = \\frac{1}{1+x}$"
   ]
  },
  {
   "cell_type": "code",
   "execution_count": 3,
   "metadata": {},
   "outputs": [],
   "source": [
    "def FunctionExp(y):\n",
    "    \n",
    "    if(y.any() != 0):\n",
    "        return (  (1/y-1)**2 * np.exp( -(1/y-1)/4 )  )/(4*y**2)\n",
    "    else:\n",
    "        return 0\n",
    "    \n",
    "def IntegralExacta():\n",
    "    return 32."
   ]
  },
  {
   "cell_type": "code",
   "execution_count": 4,
   "metadata": {},
   "outputs": [],
   "source": [
    "def MCIntegral(N = 100):\n",
    "    x = np.random.rand(N)\n",
    "    return np.sum(FunctionExp(x))/N"
   ]
  },
  {
   "cell_type": "code",
   "execution_count": 11,
   "metadata": {},
   "outputs": [
    {
     "name": "stdout",
     "output_type": "stream",
     "text": [
      "32.03279381860407\n"
     ]
    }
   ],
   "source": [
    "Integral = MCIntegral(N = 1000000)\n",
    "print(Integral)"
   ]
  },
  {
   "cell_type": "code",
   "execution_count": 12,
   "metadata": {},
   "outputs": [
    {
     "name": "stdout",
     "output_type": "stream",
     "text": [
      "[    100     372    1389    5179   19306   71968  268269 1000000]\n"
     ]
    }
   ],
   "source": [
    "n_intentos = 8\n",
    "puntos = np.int_(np.logspace(2,6,n_intentos))\n",
    "print(puntos)"
   ]
  },
  {
   "cell_type": "code",
   "execution_count": 13,
   "metadata": {},
   "outputs": [
    {
     "name": "stdout",
     "output_type": "stream",
     "text": [
      "[0.07740834 0.04270401 0.05557808 0.04299788 0.00798301 0.01448361\n",
      " 0.00032662 0.00038069]\n"
     ]
    }
   ],
   "source": [
    "diferencias = np.ones(n_intentos)\n",
    "\n",
    "for i in range(n_intentos):\n",
    "    a = IntegralExacta()\n",
    "    b = MCIntegral(N = puntos[i])\n",
    "    diferencias[i] = np.abs( (a-b)/a )\n",
    "\n",
    "print(diferencias)"
   ]
  },
  {
   "cell_type": "code",
   "execution_count": 14,
   "metadata": {},
   "outputs": [
    {
     "data": {
      "image/png": "[encoded data removed]",
      "text/plain": [
       "<Figure size 432x288 with 1 Axes>"
      ]
     },
     "metadata": {
      "needs_background": "light"
     },
     "output_type": "display_data"
    }
   ],
   "source": [
    "plt.plot(puntos, diferencias)\n",
    "plt.yscale('log')\n",
    "plt.show()"
   ]
  },
  {
   "cell_type": "markdown",
   "metadata": {},
   "source": [
    "En general es posible utilizar los puntos muestrales que siguen una dsitribución $g(x)$ para integrar una función $f(x)$. La siguiente aproximación de satisface:\n",
    "\n",
    "$$ \\frac{\\int g(x)f(x)dx}{\\int g(x)dx} = < f(x) > \\approx \\frac{1}{N} \\sum_{i=1}^{N} f(x_{i}) $$,\n",
    "\n",
    "donde $g(x)$ es la función de densidad de probabilidad, que podría no estar normalizada. Por ejemplo, $\\int_{0}^{\\infty} e^{-x} sin(x) dx$ puede ser estimada usando la densidad de probabilidad de la exponencial y promediando el valor de $sin(x)$ en esos puntos."
   ]
  },
  {
   "cell_type": "code",
   "execution_count": 16,
   "metadata": {},
   "outputs": [],
   "source": [
    "def f(x):\n",
    "    return np.sin(x)\n",
    "\n",
    "def IntegralExacta():\n",
    "    return 0.5\n",
    "\n",
    "def MCIntegral(N = 100):\n",
    "    x = np.random.exponential( size = N )\n",
    "    return np.sum(f(x))/N"
   ]
  },
  {
   "cell_type": "code",
   "execution_count": 17,
   "metadata": {},
   "outputs": [
    {
     "name": "stdout",
     "output_type": "stream",
     "text": [
      "0.5005014926750315\n"
     ]
    }
   ],
   "source": [
    "print(MCIntegral(10000))"
   ]
  },
  {
   "cell_type": "code",
   "execution_count": 18,
   "metadata": {},
   "outputs": [
    {
     "name": "stdout",
     "output_type": "stream",
     "text": [
      "[0.03826479 0.01397493 0.01978362 0.00283793 0.0034277  0.00091036\n",
      " 0.00071041 0.00161429]\n"
     ]
    }
   ],
   "source": [
    "n_intentos = 8\n",
    "puntos = np.int_(np.logspace(2,6,n_intentos))\n",
    "diferencias = np.ones(n_intentos)\n",
    "\n",
    "for i in range(n_intentos):\n",
    "    a = IntegralExacta()\n",
    "    b = MCIntegral(N = puntos[i])\n",
    "    diferencias[i] = np.abs( (a-b)/a )  \n",
    "\n",
    "print(diferencias)"
   ]
  },
  {
   "cell_type": "code",
   "execution_count": 19,
   "metadata": {},
   "outputs": [
    {
     "data": {
      "text/plain": [
       "Text(0,0.5,'|Error|')"
      ]
     },
     "execution_count": 19,
     "metadata": {},
     "output_type": "execute_result"
    },
    {
     "data": {
      "image/png": "[encoded data removed]",
      "text/plain": [
       "<Figure size 432x288 with 1 Axes>"
      ]
     },
     "metadata": {
      "needs_background": "light"
     },
     "output_type": "display_data"
    }
   ],
   "source": [
    "plt.plot(puntos, diferencias)\n",
    "plt.loglog()\n",
    "plt.xlabel(\"$N_{puntos}$\")\n",
    "plt.ylabel(\"|Error|\")"
   ]
  },
  {
   "cell_type": "markdown",
   "metadata": {},
   "source": [
    "Calcular la integral $\\int_{0}^{\\frac{\\pi}{2}} xsin(x) dx$, notar los límites de integración!"
   ]
  },
  {
   "cell_type": "code",
   "execution_count": 34,
   "metadata": {},
   "outputs": [],
   "source": [
    "def f(y):\n",
    "    return y*np.sin(y)\n",
    "\n",
    "def IntegralExacta():\n",
    "    return 1.\n",
    "\n",
    "def MCIntegral( N = 100):\n",
    "    x = np.random.rand(N)*0.5*np.pi\n",
    "    return (0.5*np.pi)*np.sum(f(x))/N # Weight (b-a)/N 1D, ((b-a)(d-c))/N"
   ]
  },
  {
   "cell_type": "code",
   "execution_count": 35,
   "metadata": {},
   "outputs": [
    {
     "name": "stdout",
     "output_type": "stream",
     "text": [
      "1.0035091932480245\n"
     ]
    }
   ],
   "source": [
    "print(MCIntegral(100000))"
   ]
  },
  {
   "cell_type": "markdown",
   "metadata": {},
   "source": [
    "# Método de aceptación y rechazo"
   ]
  },
  {
   "cell_type": "code",
   "execution_count": 42,
   "metadata": {},
   "outputs": [],
   "source": [
    "Npoints = 1000\n",
    "x = np.linspace(0.,np.pi)\n",
    "\n",
    "def f(x):\n",
    "    y = 0.5 * np.sin(x)\n",
    "    \n",
    "    if (np.isscalar(x)): # Verificar si es escalar\n",
    "        if( x > np.pi or x < 0):\n",
    "            y = 0\n",
    "    else: # Si es array\n",
    "        ii = (x.any() > np.pi ) or (x.any() <0)\n",
    "        y[ii] = 0\n",
    "    return y"
   ]
  },
  {
   "cell_type": "code",
   "execution_count": 43,
   "metadata": {},
   "outputs": [
    {
     "data": {
      "text/plain": [
       "Text(0,0.5,'PDF(x)')"
      ]
     },
     "execution_count": 43,
     "metadata": {},
     "output_type": "execute_result"
    },
    {
     "data": {
      "image/png": "[encoded data removed]",
      "text/plain": [
       "<Figure size 432x288 with 1 Axes>"
      ]
     },
     "metadata": {
      "needs_background": "light"
     },
     "output_type": "display_data"
    }
   ],
   "source": [
    "plt.plot(x,f(x))\n",
    "plt.xlabel('x')\n",
    "plt.ylabel('PDF(x)')"
   ]
  },
  {
   "cell_type": "markdown",
   "metadata": {},
   "source": [
    "Generamos un punto $x_{i}$ de una distribución uniforme entre 0 y $\\pi$, para cada $x_{i}$, generamos un $y_{i}$ de una distribución uniforme entre 0 y el máximo de $f(x)$, nos preguntamos si $y_{i} < f(x_{i})$; si es verdadero incluimos el valor $x_{i}$ en la lista."
   ]
  },
  {
   "cell_type": "code",
   "execution_count": 114,
   "metadata": {},
   "outputs": [],
   "source": [
    "Npoints = 10000\n",
    "\n",
    "Ninside = 0\n",
    "trials = 0\n",
    "lista = []"
   ]
  },
  {
   "cell_type": "code",
   "execution_count": 115,
   "metadata": {},
   "outputs": [],
   "source": [
    "while Ninside < Npoints:\n",
    "    xi = np.random.rand()*np.pi\n",
    "    yi = np.random.rand()*0.5 # 0.5 es el máximo de f(x)\n",
    "    \n",
    "    trials += 1\n",
    "    if(yi < f(xi)):\n",
    "        lista.append(xi)\n",
    "        Ninside += 1"
   ]
  },
  {
   "cell_type": "code",
   "execution_count": 116,
   "metadata": {},
   "outputs": [
    {
     "name": "stdout",
     "output_type": "stream",
     "text": [
      "0.636091851663\n"
     ]
    }
   ],
   "source": [
    "print(Ninside/float(trials))"
   ]
  },
  {
   "cell_type": "code",
   "execution_count": 117,
   "metadata": {},
   "outputs": [],
   "source": [
    "# Pintemos f(x) y la dsitribución de frecuencias de xi"
   ]
  },
  {
   "cell_type": "code",
   "execution_count": 118,
   "metadata": {},
   "outputs": [
    {
     "data": {
      "image/png": "[encoded data removed]",
      "text/plain": [
       "<Figure size 432x288 with 1 Axes>"
      ]
     },
     "metadata": {
      "needs_background": "light"
     },
     "output_type": "display_data"
    }
   ],
   "source": [
    "plt.plot(x,f(x))\n",
    "n, bins, _ = plt.hist(lista, density=True, bins=x)"
   ]
  },
  {
   "cell_type": "code",
   "execution_count": 119,
   "metadata": {},
   "outputs": [
    {
     "name": "stdout",
     "output_type": "stream",
     "text": [
      "1.0000000000000002\n"
     ]
    }
   ],
   "source": [
    "Nbins = len(n)\n",
    "\n",
    "bin_width = bins[1]-bins[0]\n",
    "integral = bin_width * sum(n[:Nbins])\n",
    "print(integral)"
   ]
  },
  {
   "cell_type": "code",
   "execution_count": null,
   "metadata": {},
   "outputs": [],
   "source": []
  }
 ],
 "metadata": {
  "kernelspec": {
   "display_name": "Python 3",
   "language": "python",
   "name": "python3"
  },
  "language_info": {
   "codemirror_mode": {
    "name": "ipython",
    "version": 2
   },
   "file_extension": ".py",
   "mimetype": "text/x-python",
   "name": "python",
   "nbconvert_exporter": "python",
   "pygments_lexer": "ipython2",
   "version": "2.7.16"
  }
 },
 "nbformat": 4,
 "nbformat_minor": 2
}
